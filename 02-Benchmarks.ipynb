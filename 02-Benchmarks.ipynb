{
 "cells": [
  {
   "cell_type": "markdown",
   "id": "81ccf04e-8fa1-43fb-8938-ee6c1639b9eb",
   "metadata": {},
   "source": [
    "## Results\n",
    "\n",
    "### Matrix size 2048, 3 iterations, Python 3.12\n",
    "\n",
    "| System         | Framework       | Accelerator    | Result    |\n",
    "| -------------- | --------------- | -------------- | --------- |\n",
    "| i5 + 4070ti    | JAX             | GPU            |   1.99 ms |\n",
    "| M2 Max (30 c.) | JAX             | Metal GPU      |   6.07 ms |\n",
    "| M2 Max (30 c.) | MLX.compile()   | Metal GPU      |   6.46 ms |\n",
    "| M2 Max (30 c.) | MLX             | Metal GPU      |   6.56 ms |\n",
    "| Colab          | JAX             | TPU v4         |  12.5 ms  |\n",
    "| M2 Max (30 c.) | Torch.compile() | Metal GPU      |  28.3 ms  |\n",
    "| M2 Max (30 c.) | Torch           | Metal GPU      |  30.6 ms  |\n",
    "| M2 Max (30 c.) | Numpy 2.1.1     | Accelerate     |  33.8 ms  |\n",
    "| i5 + 4070ti    | Torch.compile() | GPU            |  84.5 ms  |\n",
    "| i5 + 4070ti    | Torch           | GPU            |  91.5 ms  |\n",
    "| Intel i5 13500 | Numpy 2.1.2     | CPU            |  93.1 ms  |\n",
    "| Google Colab   | Numpy 1.26.x    | CPU            | 736.0 ms  |\n",
    "\n",
    "Note: `torch.compile()` currently requires minimum Torch 2.4 on Python 3.12 both for Nvidia and Apple."
   ]
  },
  {
   "cell_type": "markdown",
   "id": "21877c96-b562-4011-8456-0e91f14b8032",
   "metadata": {},
   "source": [
    "## Numpy reference"
   ]
  },
  {
   "cell_type": "code",
   "execution_count": 1,
   "id": "f431724f-fc4d-4a02-aa57-39f97cbf887b",
   "metadata": {},
   "outputs": [],
   "source": [
    "import numpy as np"
   ]
  },
  {
   "cell_type": "code",
   "execution_count": 2,
   "id": "5152283c-833e-465b-b144-98fe35316ece",
   "metadata": {},
   "outputs": [
    {
     "data": {
      "text/plain": [
       "'2.1.3'"
      ]
     },
     "execution_count": 2,
     "metadata": {},
     "output_type": "execute_result"
    }
   ],
   "source": [
    "np.version.version"
   ]
  },
  {
   "cell_type": "code",
   "execution_count": 3,
   "id": "afc8e31c-52a7-498f-94a6-ee4cf446c480",
   "metadata": {},
   "outputs": [],
   "source": [
    "x = np.random.rand(2048, 2048).astype(dtype=np.float32) / 5.0"
   ]
  },
  {
   "cell_type": "code",
   "execution_count": 4,
   "id": "c07fd832-adfd-4cbe-ac49-583f3ce61d19",
   "metadata": {},
   "outputs": [],
   "source": [
    "def bench_func(x):\n",
    "    for i in range(3):\n",
    "        x = (np.matmul(x,x)+x)/1000.0\n",
    "    return x"
   ]
  },
  {
   "cell_type": "code",
   "execution_count": 5,
   "id": "2c3d9123-bdf5-41ca-9e0c-0e77a86dc63b",
   "metadata": {},
   "outputs": [
    {
     "name": "stdout",
     "output_type": "stream",
     "text": [
      "69 ms ± 1.83 ms per loop (mean ± std. dev. of 7 runs, 10 loops each)\n"
     ]
    }
   ],
   "source": [
    "%timeit bench_func(x)"
   ]
  },
  {
   "cell_type": "markdown",
   "id": "3736582c-30ba-4c69-8315-2ebe63e60487",
   "metadata": {},
   "source": [
    "## JAX"
   ]
  },
  {
   "cell_type": "code",
   "execution_count": 6,
   "id": "38156a00-fa41-4e6a-8032-2ac98ba3a73b",
   "metadata": {},
   "outputs": [],
   "source": [
    "import jax\n",
    "from jax import jit\n",
    "import jax.numpy as jnp"
   ]
  },
  {
   "cell_type": "code",
   "execution_count": 7,
   "id": "d2dc7b68-769c-4d89-ac7f-d4dad052cc1d",
   "metadata": {},
   "outputs": [
    {
     "data": {
      "text/plain": [
       "'0.4.34'"
      ]
     },
     "execution_count": 7,
     "metadata": {},
     "output_type": "execute_result"
    }
   ],
   "source": [
    "jax.__version__"
   ]
  },
  {
   "cell_type": "code",
   "execution_count": 8,
   "id": "426648c3-c598-4323-bc33-539a2380fb1f",
   "metadata": {},
   "outputs": [
    {
     "name": "stderr",
     "output_type": "stream",
     "text": [
      "Platform 'METAL' is experimental and not all JAX functionality may be correctly supported!\n"
     ]
    },
    {
     "name": "stdout",
     "output_type": "stream",
     "text": [
      "Metal device set to: Apple M2 Max\n"
     ]
    },
    {
     "name": "stderr",
     "output_type": "stream",
     "text": [
      "WARNING: All log messages before absl::InitializeLog() is called are written to STDERR\n",
      "W0000 00:00:1750593949.501784 5227974 mps_client.cc:510] WARNING: JAX Apple GPU support is experimental and not all JAX functionality is correctly supported!\n",
      "I0000 00:00:1750593949.527028 5227974 service.cc:145] XLA service 0x60000170c400 initialized for platform METAL (this does not guarantee that XLA will be used). Devices:\n",
      "I0000 00:00:1750593949.527039 5227974 service.cc:153]   StreamExecutor device (0): Metal, <undefined>\n",
      "I0000 00:00:1750593949.528337 5227974 mps_client.cc:406] Using Simple allocator.\n",
      "I0000 00:00:1750593949.528352 5227974 mps_client.cc:384] XLA backend will use up to 22906109952 bytes on device 0 for SimpleAllocator.\n"
     ]
    }
   ],
   "source": [
    "xj = jnp.array(x)"
   ]
  },
  {
   "cell_type": "code",
   "execution_count": 9,
   "id": "e4e08b87-717c-4c88-ba1a-73c93d395607",
   "metadata": {},
   "outputs": [],
   "source": [
    "def bench_func_j(x):\n",
    "    for i in range(3):\n",
    "        x = (jnp.matmul(x,x)+x)/1000.0\n",
    "    return x"
   ]
  },
  {
   "cell_type": "code",
   "execution_count": 10,
   "id": "75f004ef-8f51-4b82-9bf6-87ce3826df8d",
   "metadata": {},
   "outputs": [
    {
     "name": "stdout",
     "output_type": "stream",
     "text": [
      "7.37 ms ± 1.2 ms per loop (mean ± std. dev. of 7 runs, 1 loop each)\n"
     ]
    }
   ],
   "source": [
    "%timeit jit(bench_func_j)(xj).block_until_ready()"
   ]
  },
  {
   "cell_type": "markdown",
   "id": "dbd7ff8c-9cf4-4ba6-bc53-eccf891ff441",
   "metadata": {},
   "source": [
    "## Torch"
   ]
  },
  {
   "cell_type": "code",
   "execution_count": 11,
   "id": "aeeab881-e501-4ad1-b520-c565b3ecb773",
   "metadata": {},
   "outputs": [],
   "source": [
    "import torch"
   ]
  },
  {
   "cell_type": "code",
   "execution_count": 12,
   "id": "f10c3fe4-0994-4abc-8711-af073a85ec3f",
   "metadata": {},
   "outputs": [
    {
     "data": {
      "text/plain": [
       "'2.7.1'"
      ]
     },
     "execution_count": 12,
     "metadata": {},
     "output_type": "execute_result"
    }
   ],
   "source": [
    "torch.__version__"
   ]
  },
  {
   "cell_type": "code",
   "execution_count": 13,
   "id": "2eddcbb4-8c2e-4f80-8a41-bb2bb127f95d",
   "metadata": {},
   "outputs": [],
   "source": [
    "xt = torch.tensor(x)"
   ]
  },
  {
   "cell_type": "code",
   "execution_count": 14,
   "id": "53d65539-1d02-40c2-a67a-fa5625f5a4d7",
   "metadata": {},
   "outputs": [],
   "source": [
    "def bench_func_t(x):\n",
    "    for i in range(3):\n",
    "        x = (torch.matmul(x,x)+x)/1000.0\n",
    "    return x"
   ]
  },
  {
   "cell_type": "code",
   "execution_count": 15,
   "id": "7978ad74-72b3-413e-9283-23b4fb9f9040",
   "metadata": {},
   "outputs": [
    {
     "name": "stdout",
     "output_type": "stream",
     "text": [
      "116 ms ± 24.2 ms per loop (mean ± std. dev. of 7 runs, 10 loops each)\n"
     ]
    }
   ],
   "source": [
    "%timeit bench_func_t(xt)"
   ]
  },
  {
   "cell_type": "code",
   "execution_count": 16,
   "id": "5aea4ab3-b6d0-4f1c-b394-93bcc6d8f637",
   "metadata": {},
   "outputs": [],
   "source": [
    "bench_func_tc = torch.compile(bench_func_t)"
   ]
  },
  {
   "cell_type": "code",
   "execution_count": 17,
   "id": "9687c22a-9839-4c47-bde1-f14355e65f8f",
   "metadata": {},
   "outputs": [
    {
     "name": "stdout",
     "output_type": "stream",
     "text": [
      "The slowest run took 5.43 times longer than the fastest. This could mean that an intermediate result is being cached.\n",
      "70.9 ms ± 51.6 ms per loop (mean ± std. dev. of 7 runs, 1 loop each)\n"
     ]
    }
   ],
   "source": [
    "%timeit bench_func_tc(xt)"
   ]
  },
  {
   "cell_type": "markdown",
   "id": "b1e4c0d2-1698-479f-b0d9-f1f5006066b0",
   "metadata": {},
   "source": [
    "## MLX"
   ]
  },
  {
   "cell_type": "code",
   "execution_count": 18,
   "id": "e35a8505-24bd-43ad-b8ba-bf85f95fc994",
   "metadata": {},
   "outputs": [],
   "source": [
    "import mlx\n",
    "import mlx.core as mx"
   ]
  },
  {
   "cell_type": "code",
   "execution_count": 19,
   "id": "7cfcb7bc-8b97-4f0a-804f-dd635d6f8cde",
   "metadata": {},
   "outputs": [
    {
     "data": {
      "text/plain": [
       "'0.26.1'"
      ]
     },
     "execution_count": 19,
     "metadata": {},
     "output_type": "execute_result"
    }
   ],
   "source": [
    "mx.__version__"
   ]
  },
  {
   "cell_type": "code",
   "execution_count": 20,
   "id": "8e923d94-4f40-4577-b208-a269f001680a",
   "metadata": {},
   "outputs": [],
   "source": [
    "xm = mx.array(x)"
   ]
  },
  {
   "cell_type": "code",
   "execution_count": 21,
   "id": "e4d81443-0fad-46b1-957c-b25030cb4ba0",
   "metadata": {},
   "outputs": [],
   "source": [
    "def bench_func_m(x1):\n",
    "    for _ in range(3):\n",
    "        x1 = (mx.matmul(x1,x1) +x1)/mx.array(1000.0)\n",
    "    return x1"
   ]
  },
  {
   "cell_type": "code",
   "execution_count": 22,
   "id": "658eb00a-9118-4ca8-bb3a-1dc4975f9259",
   "metadata": {},
   "outputs": [
    {
     "name": "stdout",
     "output_type": "stream",
     "text": [
      "9.79 ms ± 1.47 ms per loop (mean ± std. dev. of 7 runs, 100 loops each)\n"
     ]
    }
   ],
   "source": [
    "%timeit mx.eval(bench_func_m(xm))"
   ]
  },
  {
   "cell_type": "code",
   "execution_count": 23,
   "id": "cfe01211-bae5-4bdd-9b41-65dcf5c0e397",
   "metadata": {},
   "outputs": [],
   "source": [
    "bench_func_mc = mx.compile(bench_func_m)"
   ]
  },
  {
   "cell_type": "code",
   "execution_count": 24,
   "id": "e4ba6ef8-e137-40d8-b7b6-81344dca31bb",
   "metadata": {},
   "outputs": [],
   "source": [
    "b=bench_func_mc(xm)"
   ]
  },
  {
   "cell_type": "code",
   "execution_count": 25,
   "id": "e9e780b4-2d3e-4687-8e3f-f82121b7e2dc",
   "metadata": {},
   "outputs": [
    {
     "name": "stdout",
     "output_type": "stream",
     "text": [
      "8.98 ms ± 1.52 ms per loop (mean ± std. dev. of 7 runs, 1 loop each)\n"
     ]
    }
   ],
   "source": [
    "%timeit mx.eval(bench_func_mc(xm))"
   ]
  },
  {
   "cell_type": "code",
   "execution_count": null,
   "id": "fb0143f3-e35c-4184-94ec-263530c0aba2",
   "metadata": {},
   "outputs": [],
   "source": []
  }
 ],
 "metadata": {
  "kernelspec": {
   "display_name": "Python 3 (ipykernel)",
   "language": "python",
   "name": "python3"
  },
  "language_info": {
   "codemirror_mode": {
    "name": "ipython",
    "version": 3
   },
   "file_extension": ".py",
   "mimetype": "text/x-python",
   "name": "python",
   "nbconvert_exporter": "python",
   "pygments_lexer": "ipython3",
   "version": "3.12.11"
  }
 },
 "nbformat": 4,
 "nbformat_minor": 5
}

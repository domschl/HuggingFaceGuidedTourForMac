{
 "cells": [
  {
   "cell_type": "markdown",
   "id": "50ba4fe5-ef79-4de7-a25b-da63441e51d7",
   "metadata": {},
   "source": [
    "## A very simple chat-bot\n",
    "\n",
    "Using Pytorch and Huggingface transformers pipelines with Apple's metal acceleration.\n",
    "\n",
    "- See <https://huggingface.co/docs/transformers/main/en/conversations> for more information.\n",
    "- Check out <https://huggingface.co/models?pipeline_tag=text-generation&sort=trending> for more chat models\n",
    "- Be aware that some models require an account at Huggingface in order to be able to download them!"
   ]
  },
  {
   "cell_type": "code",
   "execution_count": null,
   "id": "8f8a259a-8e64-44f0-8e20-1cabd840969a",
   "metadata": {},
   "outputs": [],
   "source": [
    "import torch\n",
    "from transformers import pipeline\n",
    "\n",
    "model_name = \"Qwen/Qwen2.5-0.5B-Instruct\"\n",
    "other_models = [\"Qwen/Qwen2.5-3B-Instruct\", \"meta-llama/Meta-Llama-3-8B-Instruct\"]  # change model_name to try other models\n",
    "\n",
    "pipeline = pipeline(task=\"text-generation\", model=model_name, torch_dtype=torch.bfloat16, device_map=\"auto\")  # or request device_map=\"mps\"\n"
   ]
  },
  {
   "cell_type": "markdown",
   "id": "e41dcf60-f462-4ecb-96df-52b1a705822f",
   "metadata": {},
   "source": [
    "First, define a system prompt that will define the character of your conversation partner:"
   ]
  },
  {
   "cell_type": "code",
   "execution_count": null,
   "id": "3dce8965-aae9-4323-9991-113982c4e43a",
   "metadata": {},
   "outputs": [],
   "source": [
    "chat = [\n",
    "    {\"role\": \"system\", \"content\": \"You are a super-intelligent assistant\"},\n",
    "]"
   ]
  },
  {
   "cell_type": "code",
   "execution_count": null,
   "id": "74b5132f-d523-4c97-a3fe-10cf55ebd0d1",
   "metadata": {},
   "outputs": [],
   "source": [
    "first = True\n",
    "while True:\n",
    "    if first is True:\n",
    "        first = False\n",
    "        print(\"Please press enter (not SHIFT-enter) after your input, enter 'bye' to end:\")\n",
    "    try:\n",
    "        input_text = input(\"> \")\n",
    "        if input_text in [\"\", \"bye\", \"quit\", \"exit\"]:\n",
    "            break\n",
    "        print()\n",
    "        chat.append({\"role\": \"user\", \"content\": input_text})\n",
    "        response = pipeline(chat, max_new_tokens=512)\n",
    "        print(response[0][\"generated_text\"][-1][\"content\"])\n",
    "        chat = response[0][\"generated_text\"]\n",
    "        print()\n",
    "    except KeyboardInterrupt:\n",
    "        break"
   ]
  },
  {
   "cell_type": "code",
   "execution_count": null,
   "id": "457011a1-5ed8-4df1-884f-5f58afdf751f",
   "metadata": {},
   "outputs": [],
   "source": []
  }
 ],
 "metadata": {
  "kernelspec": {
   "display_name": "Python 3 (ipykernel)",
   "language": "python",
   "name": "python3"
  },
  "language_info": {
   "codemirror_mode": {
    "name": "ipython",
    "version": 3
   },
   "file_extension": ".py",
   "mimetype": "text/x-python",
   "name": "python",
   "nbconvert_exporter": "python",
   "pygments_lexer": "ipython3",
   "version": "3.13.5"
  }
 },
 "nbformat": 4,
 "nbformat_minor": 5
}
